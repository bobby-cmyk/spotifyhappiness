{
 "cells": [
  {
   "cell_type": "code",
   "execution_count": 186,
   "metadata": {},
   "outputs": [],
   "source": [
    "#Load libraries and API authentication\n",
    "import pandas as pd\n",
    "import spotipy\n",
    "from spotipy.oauth2 import SpotifyClientCredentials\n",
    "import os\n",
    "from dotenv import load_dotenv\n",
    "import plotly.graph_objects as go\n",
    "import numpy as np\n",
    "from plotly.colors import n_colors\n",
    "import plotly.express as px\n",
    "import chart_studio\n",
    "import chart_studio.plotly as py\n",
    "import chart_studio.tools as tls\n",
    "\n",
    "load_dotenv()\n",
    "\n",
    "cid = os.getenv('cid')\n",
    "secret = os.getenv('secret')\n",
    "\n",
    "client_credentials_manager = SpotifyClientCredentials(client_id=cid, client_secret=secret)\n",
    "sp = spotipy.Spotify(client_credentials_manager = client_credentials_manager)\n",
    "\n",
    "\n",
    "username = os.getenv('username')\n",
    "api_key = os.getenv('api_key')\n",
    "chart_studio.tools.set_credentials_file(username=username, api_key=api_key)"
   ]
  },
  {
   "cell_type": "code",
   "execution_count": 155,
   "metadata": {},
   "outputs": [],
   "source": [
    "#Playlists' urls for my top songs \n",
    "my_urls = {}\n",
    "\n",
    "my_urls[\"2016\"] = \"https://open.spotify.com/playlist/37i9dQZF1Cz2XHt3lOfJxi?si=dcbd842aaf4e4f7d\"\n",
    "my_urls[\"2017\"] = \"https://open.spotify.com/playlist/37i9dQZF1E9KfeBAuCai3p?si=2de00b969b104899\"\n",
    "my_urls[\"2018\"] = \"https://open.spotify.com/playlist/37i9dQZF1Eje9zS72t1M5m?si=461041194faa450a\"\n",
    "my_urls[\"2019\"] = \"https://open.spotify.com/playlist/37i9dQZF1Etac3sI88VwlJ?si=faeb4bda8c664996\"\n",
    "my_urls[\"2020\"] = \"https://open.spotify.com/playlist/37i9dQZF1EM0XmByuUVL4X?si=cd1c544eec334332\"\n",
    "my_urls[\"2021\"] = \"https://open.spotify.com/playlist/3Qlny1jLSBW0uYUBbWH6tV?si=1d2d702e9a624284\"\n",
    "my_urls[\"2022\"] = \"https://open.spotify.com/playlist/2xctbBFfjBkSN5BD4NGjTe?si=dc1fa6cd4c364ae0\"\n",
    "\n",
    "#Playlists' urls for global top songs\n",
    "global_urls = {}\n",
    "\n",
    "global_urls[\"2016\"] = \"https://open.spotify.com/playlist/37i9dQZF1DX8XZ6AUo9R4R?si=3889e1d8593d47e1\"\n",
    "global_urls[\"2017\"] = \"https://open.spotify.com/playlist/37i9dQZF1DWTE7dVUebpUW?si=0dea96c43add4260\"\n",
    "global_urls[\"2018\"] = \"https://open.spotify.com/playlist/37i9dQZF1DXe2bobNYDtW8?si=33f66f95570241e3\"\n",
    "global_urls[\"2019\"] = \"https://open.spotify.com/playlist/37i9dQZF1DWVRSukIED0e9?si=23502d9cbee04513\"\n",
    "global_urls[\"2020\"] = \"https://open.spotify.com/playlist/2fmTTbBkXi8pewbUvG3CeZ?si=45804932d9d64d2b\"\n",
    "global_urls[\"2021\"] = \"https://open.spotify.com/playlist/5GhQiRkGuqzpWZSE7OU4Se?si=d9326c93d57e4947\"\n",
    "global_urls[\"2022\"] = \"https://open.spotify.com/playlist/37i9dQZF1DX18jTM2l2fJY?si=5d7dccdf2e7f482c\"\n",
    "\n",
    "#Creating a list for years\n",
    "years = []\n",
    "\n",
    "for year in range(2016, 2022+1):\n",
    "    years.append(str(year))"
   ]
  },
  {
   "cell_type": "code",
   "execution_count": 160,
   "metadata": {},
   "outputs": [],
   "source": [
    "#Function to get tracks from plalists \n",
    "def get_tracks(years, urls, no_tracks_per_playlist):\n",
    "    \n",
    "    all_tracks = []\n",
    "    for year in years:\n",
    "        tracks = []\n",
    "        results = sp.playlist_tracks(urls[year])[\"items\"]\n",
    "        for i in range(0,no_tracks_per_playlist):  \n",
    "            track = {}\n",
    "            result = results[i][\"track\"]\n",
    "            track[\"track\"] = result[\"name\"]\n",
    "            track[\"artist\"] = result[\"artists\"][0][\"name\"]\n",
    "            track[\"track_id\"] = result[\"id\"]\n",
    "            track[\"artist_id\"] = result[\"artists\"][0][\"id\"]\n",
    "            track[\"playlist_year\"] = year\n",
    "            track[\"rank\"] = i\n",
    "            tracks.append(track)\n",
    "\n",
    "        all_tracks.extend(tracks)\n",
    "\n",
    "    tracks_df = pd.DataFrame(all_tracks)\n",
    "\n",
    "    return tracks_df"
   ]
  },
  {
   "cell_type": "code",
   "execution_count": 161,
   "metadata": {},
   "outputs": [],
   "source": [
    "#Function to get audio features of tracks using track ids\n",
    "\n",
    "def get_audiofeatures(tracks_df):\n",
    "\n",
    "    track_ids = tracks_df[\"track_id\"].values.tolist()\n",
    "\n",
    "    audio_features = []\n",
    "    for i in range(0, len(track_ids), 100):\n",
    "        audio_features += sp.audio_features(track_ids[i:i+100])\n",
    "\n",
    "    audio_features_df = pd.DataFrame(audio_features)\n",
    "\n",
    "    full_df = pd.concat([tracks_df, audio_features_df], axis=1)\n",
    "\n",
    "    return full_df"
   ]
  },
  {
   "cell_type": "code",
   "execution_count": 162,
   "metadata": {},
   "outputs": [],
   "source": [
    "#Function to transform data for charts\n",
    "def chart_data(full_df):\n",
    "    \n",
    "    data = full_df.pivot(index='playlist_year', columns='rank', values='valence').reset_index(drop=True).to_numpy()\n",
    "    \n",
    "    return data"
   ]
  },
  {
   "cell_type": "code",
   "execution_count": 180,
   "metadata": {},
   "outputs": [],
   "source": [
    "my_data = get_tracks(years, my_urls, 100)\n",
    "my_data_af = get_audiofeatures(my_data)\n",
    "my_data_chart = chart_data(my_data_af)"
   ]
  },
  {
   "cell_type": "code",
   "execution_count": 183,
   "metadata": {},
   "outputs": [],
   "source": [
    "global_data = get_tracks(years, global_urls, 50) #note: using 50 songs as spotify only included 50 songs for year 2022\n",
    "global_data_af = get_audiofeatures(global_data)\n",
    "global_data_chart = chart_data(get_audiofeatures(global_data))"
   ]
  },
  {
   "cell_type": "code",
   "execution_count": 202,
   "metadata": {},
   "outputs": [
    {
     "data": {
      "application/vnd.plotly.v1+json": {
       "config": {
        "plotlyServerURL": "https://plotly.com"
       },
       "data": [
        {
         "line": {
          "color": "rgb(5.0, 200.0, 200.0)"
         },
         "name": "2016",
         "orientation": "h",
         "points": false,
         "side": "positive",
         "type": "violin",
         "width": 3,
         "x": [
          0.778,
          0.691,
          0.823,
          0.405,
          0.75,
          0.219,
          0.372,
          0.159,
          0.228,
          0.196,
          0.405,
          0.4,
          0.603,
          0.739,
          0.59,
          0.515,
          0.298,
          0.131,
          0.471,
          0.606,
          0.245,
          0.66,
          0.248,
          0.218,
          0.405,
          0.159,
          0.676,
          0.261,
          0.485,
          0.598,
          0.477,
          0.207,
          0.272,
          0.802,
          0.433,
          0.659,
          0.312,
          0.8,
          0.556,
          0.654,
          0.315,
          0.728,
          0.735,
          0.371,
          0.51,
          0.436,
          0.343,
          0.339,
          0.421,
          0.422,
          0.539,
          0.78,
          0.569,
          0.662,
          0.753,
          0.563,
          0.0983,
          0.393,
          0.614,
          0.849,
          0.53,
          0.586,
          0.554,
          0.855,
          0.552,
          0.789,
          0.223,
          0.332,
          0.103,
          0.521,
          0.475,
          0.392,
          0.427,
          0.928,
          0.43,
          0.612,
          0.825,
          0.425,
          0.579,
          0.408,
          0.328,
          0.416,
          0.773,
          0.817,
          0.506,
          0.785,
          0.632,
          0.0695,
          0.264,
          0.648,
          0.556,
          0.811,
          0.283,
          0.343,
          0.345,
          0.213,
          0.955,
          0.387,
          0.685,
          0.731
         ]
        },
        {
         "line": {
          "color": "rgb(37.5, 168.33333333333334, 168.33333333333334)"
         },
         "name": "2017",
         "orientation": "h",
         "points": false,
         "side": "positive",
         "type": "violin",
         "width": 3,
         "x": [
          0.329,
          0.209,
          0.423,
          0.466,
          0.159,
          0.613,
          0.863,
          0.49,
          0.526,
          0.168,
          0.602,
          0.0432,
          0.718,
          0.345,
          0.428,
          0.236,
          0.235,
          0.389,
          0.419,
          0.372,
          0.117,
          0.55,
          0.338,
          0.335,
          0.481,
          0.375,
          0.693,
          0.219,
          0.213,
          0.282,
          0.531,
          0.343,
          0.0955,
          0.374,
          0.368,
          0.372,
          0.357,
          0.217,
          0.394,
          0.349,
          0.648,
          0.927,
          0.168,
          0.508,
          0.774,
          0.124,
          0.407,
          0.249,
          0.25,
          0.227,
          0.139,
          0.96,
          0.291,
          0.422,
          0.561,
          0.321,
          0.654,
          0.69,
          0.901,
          0.313,
          0.342,
          0.506,
          0.11,
          0.0637,
          0.486,
          0.928,
          0.311,
          0.247,
          0.851,
          0.119,
          0.477,
          0.8,
          0.1,
          0.378,
          0.38,
          0.29,
          0.132,
          0.169,
          0.248,
          0.511,
          0.281,
          0.272,
          0.79,
          0.437,
          0.452,
          0.348,
          0.247,
          0.645,
          0.128,
          0.401,
          0.101,
          0.324,
          0.515,
          0.86,
          0.646,
          0.166,
          0.367,
          0.54,
          0.104,
          0.364
         ]
        },
        {
         "line": {
          "color": "rgb(70.0, 136.66666666666666, 136.66666666666666)"
         },
         "name": "2018",
         "orientation": "h",
         "points": false,
         "side": "positive",
         "type": "violin",
         "width": 3,
         "x": [
          0.463,
          0.437,
          0.247,
          0.318,
          0.619,
          0.343,
          0.811,
          0.785,
          0.678,
          0.777,
          0.637,
          0.434,
          0.637,
          0.103,
          0.607,
          0.144,
          0.312,
          0.853,
          0.349,
          0.62,
          0.738,
          0.491,
          0.475,
          0.459,
          0.287,
          0.298,
          0.403,
          0.437,
          0.549,
          0.329,
          0.446,
          0.266,
          0.531,
          0.399,
          0.196,
          0.308,
          0.38,
          0.855,
          0.489,
          0.376,
          0.689,
          0.466,
          0.275,
          0.715,
          0.217,
          0.142,
          0.394,
          0.329,
          0.856,
          0.632,
          0.578,
          0.673,
          0.256,
          0.965,
          0.333,
          0.575,
          0.329,
          0.326,
          0.362,
          0.697,
          0.664,
          0.434,
          0.699,
          0.405,
          0.189,
          0.423,
          0.367,
          0.162,
          0.61,
          0.308,
          0.247,
          0.419,
          0.298,
          0.81,
          0.407,
          0.159,
          0.581,
          0.299,
          0.128,
          0.357,
          0.237,
          0.224,
          0.236,
          0.398,
          0.18,
          0.79,
          0.131,
          0.235,
          0.616,
          0.247,
          0.401,
          0.517,
          0.413,
          0.288,
          0.218,
          0.635,
          0.852,
          0.372,
          0.124,
          0.166
         ]
        },
        {
         "line": {
          "color": "rgb(102.5, 105.0, 105.0)"
         },
         "name": "2019",
         "orientation": "h",
         "points": false,
         "side": "positive",
         "type": "violin",
         "width": 3,
         "x": [
          0.29,
          0.237,
          0.247,
          0.385,
          0.913,
          0.319,
          0.294,
          0.266,
          0.261,
          0.853,
          0.282,
          0.528,
          0.494,
          0.452,
          0.312,
          0.0352,
          0.459,
          0.446,
          0.619,
          0.104,
          0.274,
          0.367,
          0.608,
          0.165,
          0.635,
          0.487,
          0.512,
          0.717,
          0.711,
          0.201,
          0.469,
          0.443,
          0.323,
          0.359,
          0.52,
          0.785,
          0.809,
          0.217,
          0.49,
          0.493,
          0.284,
          0.201,
          0.599,
          0.577,
          0.131,
          0.201,
          0.407,
          0.743,
          0.671,
          0.184,
          0.425,
          0.507,
          0.553,
          0.329,
          0.581,
          0.673,
          0.333,
          0.0397,
          0.487,
          0.413,
          0.398,
          0.422,
          0.674,
          0.319,
          0.356,
          0.0747,
          0.399,
          0.414,
          0.309,
          0.504,
          0.456,
          0.264,
          0.287,
          0.437,
          0.181,
          0.111,
          0.684,
          0.492,
          0.0564,
          0.291,
          0.734,
          0.341,
          0.144,
          0.75,
          0.394,
          0.139,
          0.632,
          0.331,
          0.335,
          0.758,
          0.494,
          0.463,
          0.156,
          0.491,
          0.382,
          0.438,
          0.774,
          0.562,
          0.313,
          0.407
         ]
        },
        {
         "line": {
          "color": "rgb(135.0, 73.33333333333333, 73.33333333333333)"
         },
         "name": "2020",
         "orientation": "h",
         "points": false,
         "side": "positive",
         "type": "violin",
         "width": 3,
         "x": [
          0.348,
          0.553,
          0.561,
          0.817,
          0.619,
          0.315,
          0.241,
          0.624,
          0.27,
          0.206,
          0.738,
          0.587,
          0.452,
          0.627,
          0.818,
          0.509,
          0.177,
          0.386,
          0.811,
          0.642,
          0.0605,
          0.574,
          0.5,
          0.626,
          0.347,
          0.408,
          0.422,
          0.0393,
          0.462,
          0.312,
          0.562,
          0.0397,
          0.855,
          0.537,
          0.841,
          0.508,
          0.846,
          0.407,
          0.294,
          0.695,
          0.299,
          0.64,
          0.503,
          0.189,
          0.837,
          0.8,
          0.592,
          0.507,
          0.359,
          0.494,
          0.345,
          0.33,
          0.52,
          0.36,
          0.388,
          0.446,
          0.395,
          0.472,
          0.298,
          0.29,
          0.312,
          0.421,
          0.436,
          0.338,
          0.414,
          0.528,
          0.898,
          0.333,
          0.428,
          0.477,
          0.497,
          0.342,
          0.201,
          0.79,
          0.832,
          0.374,
          0.111,
          0.635,
          0.165,
          0.237,
          0.856,
          0.474,
          0.282,
          0.577,
          0.264,
          0.217,
          0.853,
          0.718,
          0.443,
          0.484,
          0.349,
          0.405,
          0.779,
          0.139,
          0.652,
          0.457,
          0.826,
          0.437,
          0.779,
          0.608
         ]
        },
        {
         "line": {
          "color": "rgb(167.5, 41.66666666666666, 41.66666666666666)"
         },
         "name": "2021",
         "orientation": "h",
         "points": false,
         "side": "positive",
         "type": "violin",
         "width": 3,
         "x": [
          0.211,
          0.452,
          0.362,
          0.5,
          0.119,
          0.473,
          0.327,
          0.33,
          0.764,
          0.306,
          0.312,
          0.345,
          0.0397,
          0.241,
          0.274,
          0.62,
          0.421,
          0.515,
          0.0352,
          0.619,
          0.222,
          0.561,
          0.866,
          0.248,
          0.188,
          0.177,
          0.437,
          0.206,
          0.762,
          0.173,
          0.52,
          0.438,
          0.543,
          0.112,
          0.503,
          0.832,
          0.667,
          0.0528,
          0.142,
          0.414,
          0.413,
          0.322,
          0.613,
          0.29,
          0.719,
          0.518,
          0.314,
          0.718,
          0.297,
          0.464,
          0.935,
          0.454,
          0.374,
          0.336,
          0.937,
          0.347,
          0.384,
          0.325,
          0.244,
          0.428,
          0.27,
          0.678,
          0.202,
          0.774,
          0.227,
          0.395,
          0.373,
          0.412,
          0.405,
          0.904,
          0.204,
          0.127,
          0.37,
          0.407,
          0.357,
          0.349,
          0.236,
          0.0758,
          0.165,
          0.439,
          0.12,
          0.673,
          0.508,
          0.293,
          0.475,
          0.484,
          0.778,
          0.466,
          0.32,
          0.556,
          0.67,
          0.308,
          0.106,
          0.339,
          0.36,
          0.486,
          0.775,
          0.89,
          0.394,
          0.288
         ]
        },
        {
         "line": {
          "color": "rgb(200.0, 10.0, 10.0)"
         },
         "name": "2022",
         "orientation": "h",
         "points": false,
         "side": "positive",
         "type": "violin",
         "width": 3,
         "x": [
          0.198,
          0.452,
          0.769,
          0.305,
          0.66,
          0.226,
          0.177,
          0.577,
          0.297,
          0.504,
          0.119,
          0.349,
          0.0397,
          0.268,
          0.241,
          0.237,
          0.256,
          0.491,
          0.601,
          0.0397,
          0.332,
          0.33,
          0.351,
          0.613,
          0.473,
          0.228,
          0.312,
          0.515,
          0.284,
          0.211,
          0.425,
          0.553,
          0.669,
          0.428,
          0.568,
          0.408,
          0.847,
          0.508,
          0.803,
          0.637,
          0.8,
          0.561,
          0.247,
          0.124,
          0.901,
          0.325,
          0.239,
          0.466,
          0.12,
          0.284,
          0.345,
          0.221,
          0.421,
          0.329,
          0.62,
          0.227,
          0.362,
          0.204,
          0.112,
          0.292,
          0.537,
          0.481,
          0.37,
          0.302,
          0.596,
          0.212,
          0.339,
          0.312,
          0.8,
          0.13,
          0.678,
          0.248,
          0.0352,
          0.619,
          0.144,
          0.672,
          0.506,
          0.357,
          0.41,
          0.765,
          0.188,
          0.359,
          0.549,
          0.742,
          0.438,
          0.484,
          0.186,
          0.349,
          0.409,
          0.866,
          0.52,
          0.132,
          0.779,
          0.662,
          0.414,
          0.793,
          0.205,
          0.466,
          0.231,
          0.254
         ]
        }
       ],
       "layout": {
        "autosize": false,
        "height": 800,
        "showlegend": false,
        "template": {
         "data": {
          "bar": [
           {
            "error_x": {
             "color": "#2a3f5f"
            },
            "error_y": {
             "color": "#2a3f5f"
            },
            "marker": {
             "line": {
              "color": "#E5ECF6",
              "width": 0.5
             },
             "pattern": {
              "fillmode": "overlay",
              "size": 10,
              "solidity": 0.2
             }
            },
            "type": "bar"
           }
          ],
          "barpolar": [
           {
            "marker": {
             "line": {
              "color": "#E5ECF6",
              "width": 0.5
             },
             "pattern": {
              "fillmode": "overlay",
              "size": 10,
              "solidity": 0.2
             }
            },
            "type": "barpolar"
           }
          ],
          "carpet": [
           {
            "aaxis": {
             "endlinecolor": "#2a3f5f",
             "gridcolor": "white",
             "linecolor": "white",
             "minorgridcolor": "white",
             "startlinecolor": "#2a3f5f"
            },
            "baxis": {
             "endlinecolor": "#2a3f5f",
             "gridcolor": "white",
             "linecolor": "white",
             "minorgridcolor": "white",
             "startlinecolor": "#2a3f5f"
            },
            "type": "carpet"
           }
          ],
          "choropleth": [
           {
            "colorbar": {
             "outlinewidth": 0,
             "ticks": ""
            },
            "type": "choropleth"
           }
          ],
          "contour": [
           {
            "colorbar": {
             "outlinewidth": 0,
             "ticks": ""
            },
            "colorscale": [
             [
              0,
              "#0d0887"
             ],
             [
              0.1111111111111111,
              "#46039f"
             ],
             [
              0.2222222222222222,
              "#7201a8"
             ],
             [
              0.3333333333333333,
              "#9c179e"
             ],
             [
              0.4444444444444444,
              "#bd3786"
             ],
             [
              0.5555555555555556,
              "#d8576b"
             ],
             [
              0.6666666666666666,
              "#ed7953"
             ],
             [
              0.7777777777777778,
              "#fb9f3a"
             ],
             [
              0.8888888888888888,
              "#fdca26"
             ],
             [
              1,
              "#f0f921"
             ]
            ],
            "type": "contour"
           }
          ],
          "contourcarpet": [
           {
            "colorbar": {
             "outlinewidth": 0,
             "ticks": ""
            },
            "type": "contourcarpet"
           }
          ],
          "heatmap": [
           {
            "colorbar": {
             "outlinewidth": 0,
             "ticks": ""
            },
            "colorscale": [
             [
              0,
              "#0d0887"
             ],
             [
              0.1111111111111111,
              "#46039f"
             ],
             [
              0.2222222222222222,
              "#7201a8"
             ],
             [
              0.3333333333333333,
              "#9c179e"
             ],
             [
              0.4444444444444444,
              "#bd3786"
             ],
             [
              0.5555555555555556,
              "#d8576b"
             ],
             [
              0.6666666666666666,
              "#ed7953"
             ],
             [
              0.7777777777777778,
              "#fb9f3a"
             ],
             [
              0.8888888888888888,
              "#fdca26"
             ],
             [
              1,
              "#f0f921"
             ]
            ],
            "type": "heatmap"
           }
          ],
          "heatmapgl": [
           {
            "colorbar": {
             "outlinewidth": 0,
             "ticks": ""
            },
            "colorscale": [
             [
              0,
              "#0d0887"
             ],
             [
              0.1111111111111111,
              "#46039f"
             ],
             [
              0.2222222222222222,
              "#7201a8"
             ],
             [
              0.3333333333333333,
              "#9c179e"
             ],
             [
              0.4444444444444444,
              "#bd3786"
             ],
             [
              0.5555555555555556,
              "#d8576b"
             ],
             [
              0.6666666666666666,
              "#ed7953"
             ],
             [
              0.7777777777777778,
              "#fb9f3a"
             ],
             [
              0.8888888888888888,
              "#fdca26"
             ],
             [
              1,
              "#f0f921"
             ]
            ],
            "type": "heatmapgl"
           }
          ],
          "histogram": [
           {
            "marker": {
             "pattern": {
              "fillmode": "overlay",
              "size": 10,
              "solidity": 0.2
             }
            },
            "type": "histogram"
           }
          ],
          "histogram2d": [
           {
            "colorbar": {
             "outlinewidth": 0,
             "ticks": ""
            },
            "colorscale": [
             [
              0,
              "#0d0887"
             ],
             [
              0.1111111111111111,
              "#46039f"
             ],
             [
              0.2222222222222222,
              "#7201a8"
             ],
             [
              0.3333333333333333,
              "#9c179e"
             ],
             [
              0.4444444444444444,
              "#bd3786"
             ],
             [
              0.5555555555555556,
              "#d8576b"
             ],
             [
              0.6666666666666666,
              "#ed7953"
             ],
             [
              0.7777777777777778,
              "#fb9f3a"
             ],
             [
              0.8888888888888888,
              "#fdca26"
             ],
             [
              1,
              "#f0f921"
             ]
            ],
            "type": "histogram2d"
           }
          ],
          "histogram2dcontour": [
           {
            "colorbar": {
             "outlinewidth": 0,
             "ticks": ""
            },
            "colorscale": [
             [
              0,
              "#0d0887"
             ],
             [
              0.1111111111111111,
              "#46039f"
             ],
             [
              0.2222222222222222,
              "#7201a8"
             ],
             [
              0.3333333333333333,
              "#9c179e"
             ],
             [
              0.4444444444444444,
              "#bd3786"
             ],
             [
              0.5555555555555556,
              "#d8576b"
             ],
             [
              0.6666666666666666,
              "#ed7953"
             ],
             [
              0.7777777777777778,
              "#fb9f3a"
             ],
             [
              0.8888888888888888,
              "#fdca26"
             ],
             [
              1,
              "#f0f921"
             ]
            ],
            "type": "histogram2dcontour"
           }
          ],
          "mesh3d": [
           {
            "colorbar": {
             "outlinewidth": 0,
             "ticks": ""
            },
            "type": "mesh3d"
           }
          ],
          "parcoords": [
           {
            "line": {
             "colorbar": {
              "outlinewidth": 0,
              "ticks": ""
             }
            },
            "type": "parcoords"
           }
          ],
          "pie": [
           {
            "automargin": true,
            "type": "pie"
           }
          ],
          "scatter": [
           {
            "fillpattern": {
             "fillmode": "overlay",
             "size": 10,
             "solidity": 0.2
            },
            "type": "scatter"
           }
          ],
          "scatter3d": [
           {
            "line": {
             "colorbar": {
              "outlinewidth": 0,
              "ticks": ""
             }
            },
            "marker": {
             "colorbar": {
              "outlinewidth": 0,
              "ticks": ""
             }
            },
            "type": "scatter3d"
           }
          ],
          "scattercarpet": [
           {
            "marker": {
             "colorbar": {
              "outlinewidth": 0,
              "ticks": ""
             }
            },
            "type": "scattercarpet"
           }
          ],
          "scattergeo": [
           {
            "marker": {
             "colorbar": {
              "outlinewidth": 0,
              "ticks": ""
             }
            },
            "type": "scattergeo"
           }
          ],
          "scattergl": [
           {
            "marker": {
             "colorbar": {
              "outlinewidth": 0,
              "ticks": ""
             }
            },
            "type": "scattergl"
           }
          ],
          "scattermapbox": [
           {
            "marker": {
             "colorbar": {
              "outlinewidth": 0,
              "ticks": ""
             }
            },
            "type": "scattermapbox"
           }
          ],
          "scatterpolar": [
           {
            "marker": {
             "colorbar": {
              "outlinewidth": 0,
              "ticks": ""
             }
            },
            "type": "scatterpolar"
           }
          ],
          "scatterpolargl": [
           {
            "marker": {
             "colorbar": {
              "outlinewidth": 0,
              "ticks": ""
             }
            },
            "type": "scatterpolargl"
           }
          ],
          "scatterternary": [
           {
            "marker": {
             "colorbar": {
              "outlinewidth": 0,
              "ticks": ""
             }
            },
            "type": "scatterternary"
           }
          ],
          "surface": [
           {
            "colorbar": {
             "outlinewidth": 0,
             "ticks": ""
            },
            "colorscale": [
             [
              0,
              "#0d0887"
             ],
             [
              0.1111111111111111,
              "#46039f"
             ],
             [
              0.2222222222222222,
              "#7201a8"
             ],
             [
              0.3333333333333333,
              "#9c179e"
             ],
             [
              0.4444444444444444,
              "#bd3786"
             ],
             [
              0.5555555555555556,
              "#d8576b"
             ],
             [
              0.6666666666666666,
              "#ed7953"
             ],
             [
              0.7777777777777778,
              "#fb9f3a"
             ],
             [
              0.8888888888888888,
              "#fdca26"
             ],
             [
              1,
              "#f0f921"
             ]
            ],
            "type": "surface"
           }
          ],
          "table": [
           {
            "cells": {
             "fill": {
              "color": "#EBF0F8"
             },
             "line": {
              "color": "white"
             }
            },
            "header": {
             "fill": {
              "color": "#C8D4E3"
             },
             "line": {
              "color": "white"
             }
            },
            "type": "table"
           }
          ]
         },
         "layout": {
          "annotationdefaults": {
           "arrowcolor": "#2a3f5f",
           "arrowhead": 0,
           "arrowwidth": 1
          },
          "autotypenumbers": "strict",
          "coloraxis": {
           "colorbar": {
            "outlinewidth": 0,
            "ticks": ""
           }
          },
          "colorscale": {
           "diverging": [
            [
             0,
             "#8e0152"
            ],
            [
             0.1,
             "#c51b7d"
            ],
            [
             0.2,
             "#de77ae"
            ],
            [
             0.3,
             "#f1b6da"
            ],
            [
             0.4,
             "#fde0ef"
            ],
            [
             0.5,
             "#f7f7f7"
            ],
            [
             0.6,
             "#e6f5d0"
            ],
            [
             0.7,
             "#b8e186"
            ],
            [
             0.8,
             "#7fbc41"
            ],
            [
             0.9,
             "#4d9221"
            ],
            [
             1,
             "#276419"
            ]
           ],
           "sequential": [
            [
             0,
             "#0d0887"
            ],
            [
             0.1111111111111111,
             "#46039f"
            ],
            [
             0.2222222222222222,
             "#7201a8"
            ],
            [
             0.3333333333333333,
             "#9c179e"
            ],
            [
             0.4444444444444444,
             "#bd3786"
            ],
            [
             0.5555555555555556,
             "#d8576b"
            ],
            [
             0.6666666666666666,
             "#ed7953"
            ],
            [
             0.7777777777777778,
             "#fb9f3a"
            ],
            [
             0.8888888888888888,
             "#fdca26"
            ],
            [
             1,
             "#f0f921"
            ]
           ],
           "sequentialminus": [
            [
             0,
             "#0d0887"
            ],
            [
             0.1111111111111111,
             "#46039f"
            ],
            [
             0.2222222222222222,
             "#7201a8"
            ],
            [
             0.3333333333333333,
             "#9c179e"
            ],
            [
             0.4444444444444444,
             "#bd3786"
            ],
            [
             0.5555555555555556,
             "#d8576b"
            ],
            [
             0.6666666666666666,
             "#ed7953"
            ],
            [
             0.7777777777777778,
             "#fb9f3a"
            ],
            [
             0.8888888888888888,
             "#fdca26"
            ],
            [
             1,
             "#f0f921"
            ]
           ]
          },
          "colorway": [
           "#636efa",
           "#EF553B",
           "#00cc96",
           "#ab63fa",
           "#FFA15A",
           "#19d3f3",
           "#FF6692",
           "#B6E880",
           "#FF97FF",
           "#FECB52"
          ],
          "font": {
           "color": "#2a3f5f"
          },
          "geo": {
           "bgcolor": "white",
           "lakecolor": "white",
           "landcolor": "#E5ECF6",
           "showlakes": true,
           "showland": true,
           "subunitcolor": "white"
          },
          "hoverlabel": {
           "align": "left"
          },
          "hovermode": "closest",
          "mapbox": {
           "style": "light"
          },
          "paper_bgcolor": "white",
          "plot_bgcolor": "#E5ECF6",
          "polar": {
           "angularaxis": {
            "gridcolor": "white",
            "linecolor": "white",
            "ticks": ""
           },
           "bgcolor": "#E5ECF6",
           "radialaxis": {
            "gridcolor": "white",
            "linecolor": "white",
            "ticks": ""
           }
          },
          "scene": {
           "xaxis": {
            "backgroundcolor": "#E5ECF6",
            "gridcolor": "white",
            "gridwidth": 2,
            "linecolor": "white",
            "showbackground": true,
            "ticks": "",
            "zerolinecolor": "white"
           },
           "yaxis": {
            "backgroundcolor": "#E5ECF6",
            "gridcolor": "white",
            "gridwidth": 2,
            "linecolor": "white",
            "showbackground": true,
            "ticks": "",
            "zerolinecolor": "white"
           },
           "zaxis": {
            "backgroundcolor": "#E5ECF6",
            "gridcolor": "white",
            "gridwidth": 2,
            "linecolor": "white",
            "showbackground": true,
            "ticks": "",
            "zerolinecolor": "white"
           }
          },
          "shapedefaults": {
           "line": {
            "color": "#2a3f5f"
           }
          },
          "ternary": {
           "aaxis": {
            "gridcolor": "white",
            "linecolor": "white",
            "ticks": ""
           },
           "baxis": {
            "gridcolor": "white",
            "linecolor": "white",
            "ticks": ""
           },
           "bgcolor": "#E5ECF6",
           "caxis": {
            "gridcolor": "white",
            "linecolor": "white",
            "ticks": ""
           }
          },
          "title": {
           "x": 0.05
          },
          "xaxis": {
           "automargin": true,
           "gridcolor": "white",
           "linecolor": "white",
           "ticks": "",
           "title": {
            "standoff": 15
           },
           "zerolinecolor": "white",
           "zerolinewidth": 2
          },
          "yaxis": {
           "automargin": true,
           "gridcolor": "white",
           "linecolor": "white",
           "ticks": "",
           "title": {
            "standoff": 15
           },
           "zerolinecolor": "white",
           "zerolinewidth": 2
          }
         }
        },
        "title": {
         "text": "Positiveness of My Spotify Listening History from 2016 to 2022"
        },
        "width": 1000,
        "xaxis": {
         "showgrid": false,
         "title": {
          "text": "Positiveness"
         },
         "zeroline": false
        }
       }
      }
     },
     "metadata": {},
     "output_type": "display_data"
    }
   ],
   "source": [
    "#Plot ridgeline chart for my listening history\n",
    "\n",
    "colors = n_colors('rgb(5, 200, 200)', 'rgb(200, 10, 10)', 7, colortype='rgb')\n",
    "\n",
    "aiken_fig = go.Figure()\n",
    "for i, (data_line, color) in enumerate(zip(my_data_chart, colors)):\n",
    "    aiken_fig.add_trace(go.Violin(x=data_line, line_color=color, name=str(2016+i)))\n",
    "\n",
    "aiken_fig.update_traces(orientation='h', side='positive', width=3, points=False)\n",
    "aiken_fig.update_layout(xaxis_showgrid=False, \n",
    "                  xaxis_zeroline=False, \n",
    "                  autosize=False, \n",
    "                  width=1000,  \n",
    "                  height=800,\n",
    "                  title='Positiveness of My Spotify Listening History from 2016 to 2022',\n",
    "                  showlegend=False,\n",
    "                  xaxis=dict(title='Positiveness'),)\n",
    "\n",
    "aiken_fig.show()"
   ]
  },
  {
   "cell_type": "code",
   "execution_count": 203,
   "metadata": {},
   "outputs": [
    {
     "data": {
      "application/vnd.plotly.v1+json": {
       "config": {
        "plotlyServerURL": "https://plotly.com"
       },
       "data": [
        {
         "line": {
          "color": "rgb(5.0, 200.0, 200.0)"
         },
         "name": "2016",
         "orientation": "h",
         "points": false,
         "side": "positive",
         "type": "violin",
         "width": 3,
         "x": [
          0.486,
          0.37,
          0.515,
          0.661,
          0.288,
          0.236,
          0.549,
          0.728,
          0.747,
          0.558,
          0.163,
          0.41,
          0.7,
          0.412,
          0.465,
          0.189,
          0.296,
          0.566,
          0.896,
          0.672,
          0.168,
          0.231,
          0.657,
          0.422,
          0.34,
          0.548,
          0.159,
          0.276,
          0.71,
          0.479,
          0.536,
          0.53,
          0.552,
          0.438,
          0.466,
          0.309,
          0.389,
          0.74,
          0.18,
          0.593,
          0.528,
          0.566,
          0.102,
          0.224,
          0.704,
          0.247,
          0.496,
          0.739,
          0.475,
          0.397
         ]
        },
        {
         "line": {
          "color": "rgb(37.5, 168.33333333333334, 168.33333333333334)"
         },
         "name": "2017",
         "orientation": "h",
         "points": false,
         "side": "positive",
         "type": "violin",
         "width": 3,
         "x": [
          0.931,
          0.666,
          0.839,
          0.305,
          0.742,
          0.394,
          0.288,
          0.418,
          0.446,
          0.168,
          0.969,
          0.494,
          0.378,
          0.421,
          0.43,
          0.86,
          0.598,
          0.476,
          0.222,
          0.364,
          0.779,
          0.112,
          0.437,
          0.733,
          0.797,
          0.463,
          0.281,
          0.401,
          0.492,
          0.506,
          0.556,
          0.356,
          0.585,
          0.554,
          0.167,
          0.62,
          0.608,
          0.394,
          0.291,
          0.417,
          0.422,
          0.193,
          0.571,
          0.781,
          0.106,
          0.443,
          0.632,
          0.814,
          0.295,
          0.376
         ]
        },
        {
         "line": {
          "color": "rgb(70.0, 136.66666666666666, 136.66666666666666)"
         },
         "name": "2018",
         "orientation": "h",
         "points": false,
         "side": "positive",
         "type": "violin",
         "width": 3,
         "x": [
          0.357,
          0.129,
          0.12,
          0.175,
          0.552,
          0.218,
          0.437,
          0.534,
          0.65,
          0.237,
          0.354,
          0.333,
          0.592,
          0.446,
          0.779,
          0.711,
          0.671,
          0.0499,
          0.562,
          0.419,
          0.341,
          0.473,
          0.464,
          0.22,
          0.603,
          0.286,
          0.306,
          0.261,
          0.51,
          0.443,
          0.163,
          0.52,
          0.268,
          0.423,
          0.754,
          0.459,
          0.191,
          0.839,
          0.617,
          0.442,
          0.742,
          0.508,
          0.758,
          0.555,
          0.0793,
          0.582,
          0.526,
          0.717,
          0.35,
          0.319
         ]
        },
        {
         "line": {
          "color": "rgb(102.5, 105.0, 105.0)"
         },
         "name": "2019",
         "orientation": "h",
         "points": false,
         "side": "positive",
         "type": "violin",
         "width": 3,
         "x": [
          0.639,
          0.562,
          0.749,
          0.327,
          0.925,
          0.564,
          0.533,
          0.483,
          0.323,
          0.166,
          0.446,
          0.12,
          0.553,
          0.453,
          0.446,
          0.523,
          0.681,
          0.0978,
          0.198,
          0.463,
          0.413,
          0.388,
          0.274,
          0.412,
          0.361,
          0.544,
          0.341,
          0.952,
          0.226,
          0.566,
          0.62,
          0.714,
          0.884,
          0.702,
          0.162,
          0.656,
          0.163,
          0.112,
          0.156,
          0.244,
          0.677,
          0.261,
          0.536,
          0.803,
          0.513,
          0.101,
          0.244,
          0.55,
          0.335,
          0.507
         ]
        },
        {
         "line": {
          "color": "rgb(135.0, 73.33333333333333, 73.33333333333333)"
         },
         "name": "2020",
         "orientation": "h",
         "points": false,
         "side": "positive",
         "type": "violin",
         "width": 3,
         "x": [
          0.345,
          0.557,
          0.551,
          0.675,
          0.756,
          0.642,
          0.145,
          0.457,
          0.779,
          0.737,
          0.646,
          0.694,
          0.349,
          0.348,
          0.537,
          0.403,
          0.27,
          0.462,
          0.543,
          0.357,
          0.236,
          0.829,
          0.497,
          0.537,
          0.874,
          0.894,
          0.532,
          0.393,
          0.549,
          0.0823,
          0.467,
          0.629,
          0.347,
          0.0605,
          0.569,
          0.841,
          0.243,
          0.33,
          0.631,
          0.604,
          0.372,
          0.884,
          0.761,
          0.595,
          0.636,
          0.837,
          0.143,
          0.45,
          0.351,
          0.259
         ]
        },
        {
         "line": {
          "color": "rgb(167.5, 41.66666666666666, 41.66666666666666)"
         },
         "name": "2021",
         "orientation": "h",
         "points": false,
         "side": "positive",
         "type": "violin",
         "width": 3,
         "x": [
          0.132,
          0.758,
          0.742,
          0.589,
          0.668,
          0.719,
          0.412,
          0.13,
          0.593,
          0.464,
          0.591,
          0.172,
          0.478,
          0.892,
          0.472,
          0.396,
          0.235,
          0.695,
          0.485,
          0.881,
          0.553,
          0.543,
          0.297,
          0.531,
          0.443,
          0.436,
          0.915,
          0.958,
          0.44,
          0.189,
          0.682,
          0.0849,
          0.533,
          0.194,
          0.205,
          0.173,
          0.866,
          0.819,
          0.145,
          0.342,
          0.664,
          0.822,
          0.897,
          0.59,
          0.467,
          0.111,
          0.202,
          0.437,
          0.381,
          0.66
         ]
        },
        {
         "line": {
          "color": "rgb(200.0, 10.0, 10.0)"
         },
         "name": "2022",
         "orientation": "h",
         "points": false,
         "side": "positive",
         "type": "violin",
         "width": 3,
         "x": [
          0.662,
          0.531,
          0.478,
          0.425,
          0.187,
          0.942,
          0.555,
          0.55,
          0.268,
          0.194,
          0.894,
          0.415,
          0.234,
          0.441,
          0.268,
          0.292,
          0.822,
          0.13,
          0.0899,
          0.881,
          0.398,
          0.511,
          0.131,
          0.53,
          0.956,
          0.332,
          0.334,
          0.899,
          0.262,
          0.537,
          0.442,
          0.688,
          0.454,
          0.722,
          0.546,
          0.825,
          0.47,
          0.85,
          0.832,
          0.466,
          0.494,
          0.471,
          0.557,
          0.464,
          0.0849,
          0.901,
          0.227,
          0.138,
          0.44,
          0.419
         ]
        }
       ],
       "layout": {
        "autosize": false,
        "height": 800,
        "showlegend": false,
        "template": {
         "data": {
          "bar": [
           {
            "error_x": {
             "color": "#2a3f5f"
            },
            "error_y": {
             "color": "#2a3f5f"
            },
            "marker": {
             "line": {
              "color": "#E5ECF6",
              "width": 0.5
             },
             "pattern": {
              "fillmode": "overlay",
              "size": 10,
              "solidity": 0.2
             }
            },
            "type": "bar"
           }
          ],
          "barpolar": [
           {
            "marker": {
             "line": {
              "color": "#E5ECF6",
              "width": 0.5
             },
             "pattern": {
              "fillmode": "overlay",
              "size": 10,
              "solidity": 0.2
             }
            },
            "type": "barpolar"
           }
          ],
          "carpet": [
           {
            "aaxis": {
             "endlinecolor": "#2a3f5f",
             "gridcolor": "white",
             "linecolor": "white",
             "minorgridcolor": "white",
             "startlinecolor": "#2a3f5f"
            },
            "baxis": {
             "endlinecolor": "#2a3f5f",
             "gridcolor": "white",
             "linecolor": "white",
             "minorgridcolor": "white",
             "startlinecolor": "#2a3f5f"
            },
            "type": "carpet"
           }
          ],
          "choropleth": [
           {
            "colorbar": {
             "outlinewidth": 0,
             "ticks": ""
            },
            "type": "choropleth"
           }
          ],
          "contour": [
           {
            "colorbar": {
             "outlinewidth": 0,
             "ticks": ""
            },
            "colorscale": [
             [
              0,
              "#0d0887"
             ],
             [
              0.1111111111111111,
              "#46039f"
             ],
             [
              0.2222222222222222,
              "#7201a8"
             ],
             [
              0.3333333333333333,
              "#9c179e"
             ],
             [
              0.4444444444444444,
              "#bd3786"
             ],
             [
              0.5555555555555556,
              "#d8576b"
             ],
             [
              0.6666666666666666,
              "#ed7953"
             ],
             [
              0.7777777777777778,
              "#fb9f3a"
             ],
             [
              0.8888888888888888,
              "#fdca26"
             ],
             [
              1,
              "#f0f921"
             ]
            ],
            "type": "contour"
           }
          ],
          "contourcarpet": [
           {
            "colorbar": {
             "outlinewidth": 0,
             "ticks": ""
            },
            "type": "contourcarpet"
           }
          ],
          "heatmap": [
           {
            "colorbar": {
             "outlinewidth": 0,
             "ticks": ""
            },
            "colorscale": [
             [
              0,
              "#0d0887"
             ],
             [
              0.1111111111111111,
              "#46039f"
             ],
             [
              0.2222222222222222,
              "#7201a8"
             ],
             [
              0.3333333333333333,
              "#9c179e"
             ],
             [
              0.4444444444444444,
              "#bd3786"
             ],
             [
              0.5555555555555556,
              "#d8576b"
             ],
             [
              0.6666666666666666,
              "#ed7953"
             ],
             [
              0.7777777777777778,
              "#fb9f3a"
             ],
             [
              0.8888888888888888,
              "#fdca26"
             ],
             [
              1,
              "#f0f921"
             ]
            ],
            "type": "heatmap"
           }
          ],
          "heatmapgl": [
           {
            "colorbar": {
             "outlinewidth": 0,
             "ticks": ""
            },
            "colorscale": [
             [
              0,
              "#0d0887"
             ],
             [
              0.1111111111111111,
              "#46039f"
             ],
             [
              0.2222222222222222,
              "#7201a8"
             ],
             [
              0.3333333333333333,
              "#9c179e"
             ],
             [
              0.4444444444444444,
              "#bd3786"
             ],
             [
              0.5555555555555556,
              "#d8576b"
             ],
             [
              0.6666666666666666,
              "#ed7953"
             ],
             [
              0.7777777777777778,
              "#fb9f3a"
             ],
             [
              0.8888888888888888,
              "#fdca26"
             ],
             [
              1,
              "#f0f921"
             ]
            ],
            "type": "heatmapgl"
           }
          ],
          "histogram": [
           {
            "marker": {
             "pattern": {
              "fillmode": "overlay",
              "size": 10,
              "solidity": 0.2
             }
            },
            "type": "histogram"
           }
          ],
          "histogram2d": [
           {
            "colorbar": {
             "outlinewidth": 0,
             "ticks": ""
            },
            "colorscale": [
             [
              0,
              "#0d0887"
             ],
             [
              0.1111111111111111,
              "#46039f"
             ],
             [
              0.2222222222222222,
              "#7201a8"
             ],
             [
              0.3333333333333333,
              "#9c179e"
             ],
             [
              0.4444444444444444,
              "#bd3786"
             ],
             [
              0.5555555555555556,
              "#d8576b"
             ],
             [
              0.6666666666666666,
              "#ed7953"
             ],
             [
              0.7777777777777778,
              "#fb9f3a"
             ],
             [
              0.8888888888888888,
              "#fdca26"
             ],
             [
              1,
              "#f0f921"
             ]
            ],
            "type": "histogram2d"
           }
          ],
          "histogram2dcontour": [
           {
            "colorbar": {
             "outlinewidth": 0,
             "ticks": ""
            },
            "colorscale": [
             [
              0,
              "#0d0887"
             ],
             [
              0.1111111111111111,
              "#46039f"
             ],
             [
              0.2222222222222222,
              "#7201a8"
             ],
             [
              0.3333333333333333,
              "#9c179e"
             ],
             [
              0.4444444444444444,
              "#bd3786"
             ],
             [
              0.5555555555555556,
              "#d8576b"
             ],
             [
              0.6666666666666666,
              "#ed7953"
             ],
             [
              0.7777777777777778,
              "#fb9f3a"
             ],
             [
              0.8888888888888888,
              "#fdca26"
             ],
             [
              1,
              "#f0f921"
             ]
            ],
            "type": "histogram2dcontour"
           }
          ],
          "mesh3d": [
           {
            "colorbar": {
             "outlinewidth": 0,
             "ticks": ""
            },
            "type": "mesh3d"
           }
          ],
          "parcoords": [
           {
            "line": {
             "colorbar": {
              "outlinewidth": 0,
              "ticks": ""
             }
            },
            "type": "parcoords"
           }
          ],
          "pie": [
           {
            "automargin": true,
            "type": "pie"
           }
          ],
          "scatter": [
           {
            "fillpattern": {
             "fillmode": "overlay",
             "size": 10,
             "solidity": 0.2
            },
            "type": "scatter"
           }
          ],
          "scatter3d": [
           {
            "line": {
             "colorbar": {
              "outlinewidth": 0,
              "ticks": ""
             }
            },
            "marker": {
             "colorbar": {
              "outlinewidth": 0,
              "ticks": ""
             }
            },
            "type": "scatter3d"
           }
          ],
          "scattercarpet": [
           {
            "marker": {
             "colorbar": {
              "outlinewidth": 0,
              "ticks": ""
             }
            },
            "type": "scattercarpet"
           }
          ],
          "scattergeo": [
           {
            "marker": {
             "colorbar": {
              "outlinewidth": 0,
              "ticks": ""
             }
            },
            "type": "scattergeo"
           }
          ],
          "scattergl": [
           {
            "marker": {
             "colorbar": {
              "outlinewidth": 0,
              "ticks": ""
             }
            },
            "type": "scattergl"
           }
          ],
          "scattermapbox": [
           {
            "marker": {
             "colorbar": {
              "outlinewidth": 0,
              "ticks": ""
             }
            },
            "type": "scattermapbox"
           }
          ],
          "scatterpolar": [
           {
            "marker": {
             "colorbar": {
              "outlinewidth": 0,
              "ticks": ""
             }
            },
            "type": "scatterpolar"
           }
          ],
          "scatterpolargl": [
           {
            "marker": {
             "colorbar": {
              "outlinewidth": 0,
              "ticks": ""
             }
            },
            "type": "scatterpolargl"
           }
          ],
          "scatterternary": [
           {
            "marker": {
             "colorbar": {
              "outlinewidth": 0,
              "ticks": ""
             }
            },
            "type": "scatterternary"
           }
          ],
          "surface": [
           {
            "colorbar": {
             "outlinewidth": 0,
             "ticks": ""
            },
            "colorscale": [
             [
              0,
              "#0d0887"
             ],
             [
              0.1111111111111111,
              "#46039f"
             ],
             [
              0.2222222222222222,
              "#7201a8"
             ],
             [
              0.3333333333333333,
              "#9c179e"
             ],
             [
              0.4444444444444444,
              "#bd3786"
             ],
             [
              0.5555555555555556,
              "#d8576b"
             ],
             [
              0.6666666666666666,
              "#ed7953"
             ],
             [
              0.7777777777777778,
              "#fb9f3a"
             ],
             [
              0.8888888888888888,
              "#fdca26"
             ],
             [
              1,
              "#f0f921"
             ]
            ],
            "type": "surface"
           }
          ],
          "table": [
           {
            "cells": {
             "fill": {
              "color": "#EBF0F8"
             },
             "line": {
              "color": "white"
             }
            },
            "header": {
             "fill": {
              "color": "#C8D4E3"
             },
             "line": {
              "color": "white"
             }
            },
            "type": "table"
           }
          ]
         },
         "layout": {
          "annotationdefaults": {
           "arrowcolor": "#2a3f5f",
           "arrowhead": 0,
           "arrowwidth": 1
          },
          "autotypenumbers": "strict",
          "coloraxis": {
           "colorbar": {
            "outlinewidth": 0,
            "ticks": ""
           }
          },
          "colorscale": {
           "diverging": [
            [
             0,
             "#8e0152"
            ],
            [
             0.1,
             "#c51b7d"
            ],
            [
             0.2,
             "#de77ae"
            ],
            [
             0.3,
             "#f1b6da"
            ],
            [
             0.4,
             "#fde0ef"
            ],
            [
             0.5,
             "#f7f7f7"
            ],
            [
             0.6,
             "#e6f5d0"
            ],
            [
             0.7,
             "#b8e186"
            ],
            [
             0.8,
             "#7fbc41"
            ],
            [
             0.9,
             "#4d9221"
            ],
            [
             1,
             "#276419"
            ]
           ],
           "sequential": [
            [
             0,
             "#0d0887"
            ],
            [
             0.1111111111111111,
             "#46039f"
            ],
            [
             0.2222222222222222,
             "#7201a8"
            ],
            [
             0.3333333333333333,
             "#9c179e"
            ],
            [
             0.4444444444444444,
             "#bd3786"
            ],
            [
             0.5555555555555556,
             "#d8576b"
            ],
            [
             0.6666666666666666,
             "#ed7953"
            ],
            [
             0.7777777777777778,
             "#fb9f3a"
            ],
            [
             0.8888888888888888,
             "#fdca26"
            ],
            [
             1,
             "#f0f921"
            ]
           ],
           "sequentialminus": [
            [
             0,
             "#0d0887"
            ],
            [
             0.1111111111111111,
             "#46039f"
            ],
            [
             0.2222222222222222,
             "#7201a8"
            ],
            [
             0.3333333333333333,
             "#9c179e"
            ],
            [
             0.4444444444444444,
             "#bd3786"
            ],
            [
             0.5555555555555556,
             "#d8576b"
            ],
            [
             0.6666666666666666,
             "#ed7953"
            ],
            [
             0.7777777777777778,
             "#fb9f3a"
            ],
            [
             0.8888888888888888,
             "#fdca26"
            ],
            [
             1,
             "#f0f921"
            ]
           ]
          },
          "colorway": [
           "#636efa",
           "#EF553B",
           "#00cc96",
           "#ab63fa",
           "#FFA15A",
           "#19d3f3",
           "#FF6692",
           "#B6E880",
           "#FF97FF",
           "#FECB52"
          ],
          "font": {
           "color": "#2a3f5f"
          },
          "geo": {
           "bgcolor": "white",
           "lakecolor": "white",
           "landcolor": "#E5ECF6",
           "showlakes": true,
           "showland": true,
           "subunitcolor": "white"
          },
          "hoverlabel": {
           "align": "left"
          },
          "hovermode": "closest",
          "mapbox": {
           "style": "light"
          },
          "paper_bgcolor": "white",
          "plot_bgcolor": "#E5ECF6",
          "polar": {
           "angularaxis": {
            "gridcolor": "white",
            "linecolor": "white",
            "ticks": ""
           },
           "bgcolor": "#E5ECF6",
           "radialaxis": {
            "gridcolor": "white",
            "linecolor": "white",
            "ticks": ""
           }
          },
          "scene": {
           "xaxis": {
            "backgroundcolor": "#E5ECF6",
            "gridcolor": "white",
            "gridwidth": 2,
            "linecolor": "white",
            "showbackground": true,
            "ticks": "",
            "zerolinecolor": "white"
           },
           "yaxis": {
            "backgroundcolor": "#E5ECF6",
            "gridcolor": "white",
            "gridwidth": 2,
            "linecolor": "white",
            "showbackground": true,
            "ticks": "",
            "zerolinecolor": "white"
           },
           "zaxis": {
            "backgroundcolor": "#E5ECF6",
            "gridcolor": "white",
            "gridwidth": 2,
            "linecolor": "white",
            "showbackground": true,
            "ticks": "",
            "zerolinecolor": "white"
           }
          },
          "shapedefaults": {
           "line": {
            "color": "#2a3f5f"
           }
          },
          "ternary": {
           "aaxis": {
            "gridcolor": "white",
            "linecolor": "white",
            "ticks": ""
           },
           "baxis": {
            "gridcolor": "white",
            "linecolor": "white",
            "ticks": ""
           },
           "bgcolor": "#E5ECF6",
           "caxis": {
            "gridcolor": "white",
            "linecolor": "white",
            "ticks": ""
           }
          },
          "title": {
           "x": 0.05
          },
          "xaxis": {
           "automargin": true,
           "gridcolor": "white",
           "linecolor": "white",
           "ticks": "",
           "title": {
            "standoff": 15
           },
           "zerolinecolor": "white",
           "zerolinewidth": 2
          },
          "yaxis": {
           "automargin": true,
           "gridcolor": "white",
           "linecolor": "white",
           "ticks": "",
           "title": {
            "standoff": 15
           },
           "zerolinecolor": "white",
           "zerolinewidth": 2
          }
         }
        },
        "title": {
         "text": "Positiveness of Global Top Tracks from 2016 to 2022"
        },
        "width": 1000,
        "xaxis": {
         "showgrid": false,
         "title": {
          "text": "Positiveness"
         },
         "zeroline": false
        }
       }
      }
     },
     "metadata": {},
     "output_type": "display_data"
    }
   ],
   "source": [
    "global_fig = go.Figure()\n",
    "for i, (data_line, color) in enumerate(zip(global_data_chart, colors)):\n",
    "    global_fig.add_trace(go.Violin(x=data_line, line_color=color, name=str(2016+i)))\n",
    "\n",
    "global_fig.update_traces(orientation='h', side='positive', width=3, points=False)\n",
    "global_fig.update_layout(xaxis_showgrid=False, \n",
    "                  xaxis_zeroline=False, \n",
    "                  autosize=False, \n",
    "                  width=1000,  \n",
    "                  height=800,\n",
    "                  title='Positiveness of Global Top Tracks from 2016 to 2022',\n",
    "                  showlegend=False,\n",
    "                  xaxis=dict(title='Positiveness'),)\n",
    "\n",
    "global_fig.show()"
   ]
  },
  {
   "cell_type": "code",
   "execution_count": 184,
   "metadata": {},
   "outputs": [],
   "source": [
    "#Group by year for my data\n",
    "my_data_year = my_data_af.groupby(\"playlist_year\", as_index=False).median(\"valence\")\n",
    "#Add type -> \"Me\"\n",
    "my_data_year[\"type\"] = \"Me\" \n",
    "\n",
    "#Group by year for global data\n",
    "global_data_year = global_data_af.groupby(\"playlist_year\", as_index=False).median(\"valence\")\n",
    "#Add type -> \"Global\"\n",
    "global_data_year [\"type\"] = \"Global\" \n",
    "\n",
    "\n",
    "# Combine datasets\n",
    "combined_df= pd.concat([my_data_year,global_data_year], axis=0).reset_index()"
   ]
  },
  {
   "cell_type": "code",
   "execution_count": 199,
   "metadata": {},
   "outputs": [
    {
     "data": {
      "application/vnd.plotly.v1+json": {
       "config": {
        "plotlyServerURL": "https://plotly.com"
       },
       "data": [
        {
         "hovertemplate": "Median Positiveness: %{y}<br>Year: %{x}",
         "legendgroup": "Me",
         "line": {
          "color": "#636efa",
          "dash": "solid"
         },
         "marker": {
          "symbol": "circle"
         },
         "mode": "markers+lines",
         "name": "Me",
         "orientation": "v",
         "showlegend": true,
         "type": "scatter",
         "x": [
          "2016",
          "2017",
          "2018",
          "2019",
          "2020",
          "2021",
          "2022"
         ],
         "xaxis": "x",
         "y": [
          0.4955,
          0.3675,
          0.402,
          0.41,
          0.4595,
          0.379,
          0.3605
         ],
         "yaxis": "y"
        },
        {
         "hovertemplate": "Median Positiveness: %{y}<br>Year: %{x}",
         "legendgroup": "Global",
         "line": {
          "color": "#EF553B",
          "dash": "solid"
         },
         "marker": {
          "symbol": "diamond"
         },
         "mode": "markers+lines",
         "name": "Global",
         "orientation": "v",
         "showlegend": true,
         "type": "scatter",
         "x": [
          "2016",
          "2017",
          "2018",
          "2019",
          "2020",
          "2021",
          "2022"
         ],
         "xaxis": "x",
         "y": [
          0.477,
          0.4445,
          0.4445,
          0.458,
          0.537,
          0.4815,
          0.46799999999999997
         ],
         "yaxis": "y"
        }
       ],
       "layout": {
        "legend": {
         "title": {
          "text": "type"
         },
         "tracegroupgap": 0
        },
        "margin": {
         "t": 60
        },
        "template": {
         "data": {
          "bar": [
           {
            "error_x": {
             "color": "#2a3f5f"
            },
            "error_y": {
             "color": "#2a3f5f"
            },
            "marker": {
             "line": {
              "color": "#E5ECF6",
              "width": 0.5
             },
             "pattern": {
              "fillmode": "overlay",
              "size": 10,
              "solidity": 0.2
             }
            },
            "type": "bar"
           }
          ],
          "barpolar": [
           {
            "marker": {
             "line": {
              "color": "#E5ECF6",
              "width": 0.5
             },
             "pattern": {
              "fillmode": "overlay",
              "size": 10,
              "solidity": 0.2
             }
            },
            "type": "barpolar"
           }
          ],
          "carpet": [
           {
            "aaxis": {
             "endlinecolor": "#2a3f5f",
             "gridcolor": "white",
             "linecolor": "white",
             "minorgridcolor": "white",
             "startlinecolor": "#2a3f5f"
            },
            "baxis": {
             "endlinecolor": "#2a3f5f",
             "gridcolor": "white",
             "linecolor": "white",
             "minorgridcolor": "white",
             "startlinecolor": "#2a3f5f"
            },
            "type": "carpet"
           }
          ],
          "choropleth": [
           {
            "colorbar": {
             "outlinewidth": 0,
             "ticks": ""
            },
            "type": "choropleth"
           }
          ],
          "contour": [
           {
            "colorbar": {
             "outlinewidth": 0,
             "ticks": ""
            },
            "colorscale": [
             [
              0,
              "#0d0887"
             ],
             [
              0.1111111111111111,
              "#46039f"
             ],
             [
              0.2222222222222222,
              "#7201a8"
             ],
             [
              0.3333333333333333,
              "#9c179e"
             ],
             [
              0.4444444444444444,
              "#bd3786"
             ],
             [
              0.5555555555555556,
              "#d8576b"
             ],
             [
              0.6666666666666666,
              "#ed7953"
             ],
             [
              0.7777777777777778,
              "#fb9f3a"
             ],
             [
              0.8888888888888888,
              "#fdca26"
             ],
             [
              1,
              "#f0f921"
             ]
            ],
            "type": "contour"
           }
          ],
          "contourcarpet": [
           {
            "colorbar": {
             "outlinewidth": 0,
             "ticks": ""
            },
            "type": "contourcarpet"
           }
          ],
          "heatmap": [
           {
            "colorbar": {
             "outlinewidth": 0,
             "ticks": ""
            },
            "colorscale": [
             [
              0,
              "#0d0887"
             ],
             [
              0.1111111111111111,
              "#46039f"
             ],
             [
              0.2222222222222222,
              "#7201a8"
             ],
             [
              0.3333333333333333,
              "#9c179e"
             ],
             [
              0.4444444444444444,
              "#bd3786"
             ],
             [
              0.5555555555555556,
              "#d8576b"
             ],
             [
              0.6666666666666666,
              "#ed7953"
             ],
             [
              0.7777777777777778,
              "#fb9f3a"
             ],
             [
              0.8888888888888888,
              "#fdca26"
             ],
             [
              1,
              "#f0f921"
             ]
            ],
            "type": "heatmap"
           }
          ],
          "heatmapgl": [
           {
            "colorbar": {
             "outlinewidth": 0,
             "ticks": ""
            },
            "colorscale": [
             [
              0,
              "#0d0887"
             ],
             [
              0.1111111111111111,
              "#46039f"
             ],
             [
              0.2222222222222222,
              "#7201a8"
             ],
             [
              0.3333333333333333,
              "#9c179e"
             ],
             [
              0.4444444444444444,
              "#bd3786"
             ],
             [
              0.5555555555555556,
              "#d8576b"
             ],
             [
              0.6666666666666666,
              "#ed7953"
             ],
             [
              0.7777777777777778,
              "#fb9f3a"
             ],
             [
              0.8888888888888888,
              "#fdca26"
             ],
             [
              1,
              "#f0f921"
             ]
            ],
            "type": "heatmapgl"
           }
          ],
          "histogram": [
           {
            "marker": {
             "pattern": {
              "fillmode": "overlay",
              "size": 10,
              "solidity": 0.2
             }
            },
            "type": "histogram"
           }
          ],
          "histogram2d": [
           {
            "colorbar": {
             "outlinewidth": 0,
             "ticks": ""
            },
            "colorscale": [
             [
              0,
              "#0d0887"
             ],
             [
              0.1111111111111111,
              "#46039f"
             ],
             [
              0.2222222222222222,
              "#7201a8"
             ],
             [
              0.3333333333333333,
              "#9c179e"
             ],
             [
              0.4444444444444444,
              "#bd3786"
             ],
             [
              0.5555555555555556,
              "#d8576b"
             ],
             [
              0.6666666666666666,
              "#ed7953"
             ],
             [
              0.7777777777777778,
              "#fb9f3a"
             ],
             [
              0.8888888888888888,
              "#fdca26"
             ],
             [
              1,
              "#f0f921"
             ]
            ],
            "type": "histogram2d"
           }
          ],
          "histogram2dcontour": [
           {
            "colorbar": {
             "outlinewidth": 0,
             "ticks": ""
            },
            "colorscale": [
             [
              0,
              "#0d0887"
             ],
             [
              0.1111111111111111,
              "#46039f"
             ],
             [
              0.2222222222222222,
              "#7201a8"
             ],
             [
              0.3333333333333333,
              "#9c179e"
             ],
             [
              0.4444444444444444,
              "#bd3786"
             ],
             [
              0.5555555555555556,
              "#d8576b"
             ],
             [
              0.6666666666666666,
              "#ed7953"
             ],
             [
              0.7777777777777778,
              "#fb9f3a"
             ],
             [
              0.8888888888888888,
              "#fdca26"
             ],
             [
              1,
              "#f0f921"
             ]
            ],
            "type": "histogram2dcontour"
           }
          ],
          "mesh3d": [
           {
            "colorbar": {
             "outlinewidth": 0,
             "ticks": ""
            },
            "type": "mesh3d"
           }
          ],
          "parcoords": [
           {
            "line": {
             "colorbar": {
              "outlinewidth": 0,
              "ticks": ""
             }
            },
            "type": "parcoords"
           }
          ],
          "pie": [
           {
            "automargin": true,
            "type": "pie"
           }
          ],
          "scatter": [
           {
            "fillpattern": {
             "fillmode": "overlay",
             "size": 10,
             "solidity": 0.2
            },
            "type": "scatter"
           }
          ],
          "scatter3d": [
           {
            "line": {
             "colorbar": {
              "outlinewidth": 0,
              "ticks": ""
             }
            },
            "marker": {
             "colorbar": {
              "outlinewidth": 0,
              "ticks": ""
             }
            },
            "type": "scatter3d"
           }
          ],
          "scattercarpet": [
           {
            "marker": {
             "colorbar": {
              "outlinewidth": 0,
              "ticks": ""
             }
            },
            "type": "scattercarpet"
           }
          ],
          "scattergeo": [
           {
            "marker": {
             "colorbar": {
              "outlinewidth": 0,
              "ticks": ""
             }
            },
            "type": "scattergeo"
           }
          ],
          "scattergl": [
           {
            "marker": {
             "colorbar": {
              "outlinewidth": 0,
              "ticks": ""
             }
            },
            "type": "scattergl"
           }
          ],
          "scattermapbox": [
           {
            "marker": {
             "colorbar": {
              "outlinewidth": 0,
              "ticks": ""
             }
            },
            "type": "scattermapbox"
           }
          ],
          "scatterpolar": [
           {
            "marker": {
             "colorbar": {
              "outlinewidth": 0,
              "ticks": ""
             }
            },
            "type": "scatterpolar"
           }
          ],
          "scatterpolargl": [
           {
            "marker": {
             "colorbar": {
              "outlinewidth": 0,
              "ticks": ""
             }
            },
            "type": "scatterpolargl"
           }
          ],
          "scatterternary": [
           {
            "marker": {
             "colorbar": {
              "outlinewidth": 0,
              "ticks": ""
             }
            },
            "type": "scatterternary"
           }
          ],
          "surface": [
           {
            "colorbar": {
             "outlinewidth": 0,
             "ticks": ""
            },
            "colorscale": [
             [
              0,
              "#0d0887"
             ],
             [
              0.1111111111111111,
              "#46039f"
             ],
             [
              0.2222222222222222,
              "#7201a8"
             ],
             [
              0.3333333333333333,
              "#9c179e"
             ],
             [
              0.4444444444444444,
              "#bd3786"
             ],
             [
              0.5555555555555556,
              "#d8576b"
             ],
             [
              0.6666666666666666,
              "#ed7953"
             ],
             [
              0.7777777777777778,
              "#fb9f3a"
             ],
             [
              0.8888888888888888,
              "#fdca26"
             ],
             [
              1,
              "#f0f921"
             ]
            ],
            "type": "surface"
           }
          ],
          "table": [
           {
            "cells": {
             "fill": {
              "color": "#EBF0F8"
             },
             "line": {
              "color": "white"
             }
            },
            "header": {
             "fill": {
              "color": "#C8D4E3"
             },
             "line": {
              "color": "white"
             }
            },
            "type": "table"
           }
          ]
         },
         "layout": {
          "annotationdefaults": {
           "arrowcolor": "#2a3f5f",
           "arrowhead": 0,
           "arrowwidth": 1
          },
          "autotypenumbers": "strict",
          "coloraxis": {
           "colorbar": {
            "outlinewidth": 0,
            "ticks": ""
           }
          },
          "colorscale": {
           "diverging": [
            [
             0,
             "#8e0152"
            ],
            [
             0.1,
             "#c51b7d"
            ],
            [
             0.2,
             "#de77ae"
            ],
            [
             0.3,
             "#f1b6da"
            ],
            [
             0.4,
             "#fde0ef"
            ],
            [
             0.5,
             "#f7f7f7"
            ],
            [
             0.6,
             "#e6f5d0"
            ],
            [
             0.7,
             "#b8e186"
            ],
            [
             0.8,
             "#7fbc41"
            ],
            [
             0.9,
             "#4d9221"
            ],
            [
             1,
             "#276419"
            ]
           ],
           "sequential": [
            [
             0,
             "#0d0887"
            ],
            [
             0.1111111111111111,
             "#46039f"
            ],
            [
             0.2222222222222222,
             "#7201a8"
            ],
            [
             0.3333333333333333,
             "#9c179e"
            ],
            [
             0.4444444444444444,
             "#bd3786"
            ],
            [
             0.5555555555555556,
             "#d8576b"
            ],
            [
             0.6666666666666666,
             "#ed7953"
            ],
            [
             0.7777777777777778,
             "#fb9f3a"
            ],
            [
             0.8888888888888888,
             "#fdca26"
            ],
            [
             1,
             "#f0f921"
            ]
           ],
           "sequentialminus": [
            [
             0,
             "#0d0887"
            ],
            [
             0.1111111111111111,
             "#46039f"
            ],
            [
             0.2222222222222222,
             "#7201a8"
            ],
            [
             0.3333333333333333,
             "#9c179e"
            ],
            [
             0.4444444444444444,
             "#bd3786"
            ],
            [
             0.5555555555555556,
             "#d8576b"
            ],
            [
             0.6666666666666666,
             "#ed7953"
            ],
            [
             0.7777777777777778,
             "#fb9f3a"
            ],
            [
             0.8888888888888888,
             "#fdca26"
            ],
            [
             1,
             "#f0f921"
            ]
           ]
          },
          "colorway": [
           "#636efa",
           "#EF553B",
           "#00cc96",
           "#ab63fa",
           "#FFA15A",
           "#19d3f3",
           "#FF6692",
           "#B6E880",
           "#FF97FF",
           "#FECB52"
          ],
          "font": {
           "color": "#2a3f5f"
          },
          "geo": {
           "bgcolor": "white",
           "lakecolor": "white",
           "landcolor": "#E5ECF6",
           "showlakes": true,
           "showland": true,
           "subunitcolor": "white"
          },
          "hoverlabel": {
           "align": "left"
          },
          "hovermode": "closest",
          "mapbox": {
           "style": "light"
          },
          "paper_bgcolor": "white",
          "plot_bgcolor": "#E5ECF6",
          "polar": {
           "angularaxis": {
            "gridcolor": "white",
            "linecolor": "white",
            "ticks": ""
           },
           "bgcolor": "#E5ECF6",
           "radialaxis": {
            "gridcolor": "white",
            "linecolor": "white",
            "ticks": ""
           }
          },
          "scene": {
           "xaxis": {
            "backgroundcolor": "#E5ECF6",
            "gridcolor": "white",
            "gridwidth": 2,
            "linecolor": "white",
            "showbackground": true,
            "ticks": "",
            "zerolinecolor": "white"
           },
           "yaxis": {
            "backgroundcolor": "#E5ECF6",
            "gridcolor": "white",
            "gridwidth": 2,
            "linecolor": "white",
            "showbackground": true,
            "ticks": "",
            "zerolinecolor": "white"
           },
           "zaxis": {
            "backgroundcolor": "#E5ECF6",
            "gridcolor": "white",
            "gridwidth": 2,
            "linecolor": "white",
            "showbackground": true,
            "ticks": "",
            "zerolinecolor": "white"
           }
          },
          "shapedefaults": {
           "line": {
            "color": "#2a3f5f"
           }
          },
          "ternary": {
           "aaxis": {
            "gridcolor": "white",
            "linecolor": "white",
            "ticks": ""
           },
           "baxis": {
            "gridcolor": "white",
            "linecolor": "white",
            "ticks": ""
           },
           "bgcolor": "#E5ECF6",
           "caxis": {
            "gridcolor": "white",
            "linecolor": "white",
            "ticks": ""
           }
          },
          "title": {
           "x": 0.05
          },
          "xaxis": {
           "automargin": true,
           "gridcolor": "white",
           "linecolor": "white",
           "ticks": "",
           "title": {
            "standoff": 15
           },
           "zerolinecolor": "white",
           "zerolinewidth": 2
          },
          "yaxis": {
           "automargin": true,
           "gridcolor": "white",
           "linecolor": "white",
           "ticks": "",
           "title": {
            "standoff": 15
           },
           "zerolinecolor": "white",
           "zerolinewidth": 2
          }
         }
        },
        "title": {
         "text": "Median Positiveness of My Vs Global Top Tracks from 2016 to 2022"
        },
        "xaxis": {
         "anchor": "y",
         "domain": [
          0,
          1
         ],
         "title": {
          "text": "Year"
         }
        },
        "yaxis": {
         "anchor": "x",
         "domain": [
          0,
          1
         ],
         "title": {
          "text": "Positiveness"
         }
        }
       }
      }
     },
     "metadata": {},
     "output_type": "display_data"
    }
   ],
   "source": [
    "# Plotting median of valence over the years \n",
    "compare_fig = px.line(combined_df, x='playlist_year', y='valence', color='type', symbol=\"type\")\n",
    "compare_fig.update_traces(hovertemplate='Median Positiveness: %{y}<br>Year: %{x}')\n",
    "compare_fig.update_layout(xaxis_title='Year', yaxis_title = 'Positiveness', title='Median Positiveness of My Vs Global Top Tracks from 2016 to 2022')\n",
    "compare_fig.show()"
   ]
  },
  {
   "cell_type": "code",
   "execution_count": 204,
   "metadata": {},
   "outputs": [
    {
     "data": {
      "text/plain": [
       "'https://plotly.com/~aiken.ong/13/'"
      ]
     },
     "execution_count": 204,
     "metadata": {},
     "output_type": "execute_result"
    }
   ],
   "source": [
    "#Save plots to plotly chart studio\n",
    "\n",
    "py.plot(aiken_fig, filename = \"aiken's spotify positiveness\", auto_open=False)\n",
    "py.plot(global_fig, filename = \"global spotify positiveness\", auto_open=False)\n",
    "py.plot(compare_fig, filename = \"aiken vs global spotify positiveness\", auto_open=False)"
   ]
  }
 ],
 "metadata": {
  "kernelspec": {
   "display_name": "Python 3",
   "language": "python",
   "name": "python3"
  },
  "language_info": {
   "codemirror_mode": {
    "name": "ipython",
    "version": 3
   },
   "file_extension": ".py",
   "mimetype": "text/x-python",
   "name": "python",
   "nbconvert_exporter": "python",
   "pygments_lexer": "ipython3",
   "version": "3.9.13"
  },
  "orig_nbformat": 4
 },
 "nbformat": 4,
 "nbformat_minor": 2
}
